{
 "cells": [
  {
   "cell_type": "markdown",
   "metadata": {},
   "source": [
    "# RNN Sentiment Analysis"
   ]
  },
  {
   "cell_type": "markdown",
   "metadata": {},
   "source": [
    "Adapted from http://nbviewer.jupyter.org/github/rasbt/pattern_classification/blob/master/machine_learning/scikit-learn/outofcore_modelpersistence.ipynb"
   ]
  },
  {
   "cell_type": "markdown",
   "metadata": {},
   "source": [
    "<br>\n",
    "<br>"
   ]
  },
  {
   "cell_type": "markdown",
   "metadata": {},
   "source": [
    "## The IMDb Movie Review Dataset"
   ]
  },
  {
   "cell_type": "markdown",
   "metadata": {},
   "source": [
    "In this section, we will train a simple logistic regression model to classify movie reviews from the 50k IMDb review dataset that has been collected by Maas et. al.\n",
    "\n",
    "> AL Maas, RE Daly, PT Pham, D Huang, AY Ng, and C Potts. Learning word vectors for sentiment analysis. In Proceedings of the 49th Annual Meeting of the Association for Computational Lin- guistics: Human Language Technologies, pages 142–150, Portland, Oregon, USA, June 2011. Association for Computational Linguistics\n",
    "\n",
    "[Source: http://ai.stanford.edu/~amaas/data/sentiment/]\n",
    "\n",
    "The dataset consists of 50,000 movie reviews from the original \"train\" and \"test\" subdirectories. The class labels are binary (1=positive and 0=negative) and contain 25,000 positive and 25,000 negative movie reviews, respectively.\n",
    "For simplicity, I assembled the reviews in a single CSV file.\n"
   ]
  },
  {
   "cell_type": "code",
   "execution_count": 1,
   "metadata": {},
   "outputs": [
    {
     "name": "stderr",
     "output_type": "stream",
     "text": [
      "Using TensorFlow backend.\n"
     ]
    },
    {
     "data": {
      "text/html": [
       "<div>\n",
       "<style scoped>\n",
       "    .dataframe tbody tr th:only-of-type {\n",
       "        vertical-align: middle;\n",
       "    }\n",
       "\n",
       "    .dataframe tbody tr th {\n",
       "        vertical-align: top;\n",
       "    }\n",
       "\n",
       "    .dataframe thead th {\n",
       "        text-align: right;\n",
       "    }\n",
       "</style>\n",
       "<table border=\"1\" class=\"dataframe\">\n",
       "  <thead>\n",
       "    <tr style=\"text-align: right;\">\n",
       "      <th></th>\n",
       "      <th>review</th>\n",
       "      <th>sentiment</th>\n",
       "    </tr>\n",
       "  </thead>\n",
       "  <tbody>\n",
       "    <tr>\n",
       "      <th>49995</th>\n",
       "      <td>OK, lets start with the best. the building. al...</td>\n",
       "      <td>0</td>\n",
       "    </tr>\n",
       "    <tr>\n",
       "      <th>49996</th>\n",
       "      <td>The British 'heritage film' industry is out of...</td>\n",
       "      <td>0</td>\n",
       "    </tr>\n",
       "    <tr>\n",
       "      <th>49997</th>\n",
       "      <td>I don't even know where to begin on this one. ...</td>\n",
       "      <td>0</td>\n",
       "    </tr>\n",
       "    <tr>\n",
       "      <th>49998</th>\n",
       "      <td>Richard Tyler is a little boy who is scared of...</td>\n",
       "      <td>0</td>\n",
       "    </tr>\n",
       "    <tr>\n",
       "      <th>49999</th>\n",
       "      <td>I waited long to watch this movie. Also becaus...</td>\n",
       "      <td>1</td>\n",
       "    </tr>\n",
       "  </tbody>\n",
       "</table>\n",
       "</div>"
      ],
      "text/plain": [
       "                                                  review  sentiment\n",
       "49995  OK, lets start with the best. the building. al...          0\n",
       "49996  The British 'heritage film' industry is out of...          0\n",
       "49997  I don't even know where to begin on this one. ...          0\n",
       "49998  Richard Tyler is a little boy who is scared of...          0\n",
       "49999  I waited long to watch this movie. Also becaus...          1"
      ]
     },
     "execution_count": 1,
     "metadata": {},
     "output_type": "execute_result"
    }
   ],
   "source": [
    "import pandas as pd\n",
    "from sklearn.model_selection import train_test_split\n",
    "import matplotlib.pyplot as plt\n",
    "\n",
    "from keras.models import Sequential\n",
    "from keras.layers import Dense, Embedding, LSTM, SpatialDropout1D\n",
    "from keras.preprocessing.text import Tokenizer\n",
    "from keras.preprocessing.sequence import pad_sequences\n",
    "from keras.utils.np_utils import to_categorical\n",
    "import re\n",
    "\n",
    "# if you want to download the original file:\n",
    "#df = pd.read_csv('https://raw.githubusercontent.com/rasbt/pattern_classification/master/data/50k_imdb_movie_reviews.csv')\n",
    "# otherwise load local file\n",
    "df = pd.read_csv('../Semana 3/shuffled_movie_data.csv')\n",
    "df.tail()"
   ]
  },
  {
   "cell_type": "markdown",
   "metadata": {},
   "source": [
    "Let us shuffle the class labels."
   ]
  },
  {
   "cell_type": "code",
   "execution_count": 2,
   "metadata": {},
   "outputs": [],
   "source": [
    "import numpy as np"
   ]
  },
  {
   "cell_type": "markdown",
   "metadata": {},
   "source": [
    "<br>\n",
    "<br>"
   ]
  },
  {
   "cell_type": "markdown",
   "metadata": {},
   "source": [
    "## Preprocessing Text Data"
   ]
  },
  {
   "cell_type": "markdown",
   "metadata": {},
   "source": [
    "Se modifico la funcion tokenizer para que funcione de mejor forma con word2vect y asi acotar el resultado del vocabulario."
   ]
  },
  {
   "cell_type": "code",
   "execution_count": 3,
   "metadata": {},
   "outputs": [],
   "source": [
    "import numpy as np\n",
    "from nltk.stem.porter import PorterStemmer\n",
    "import re\n",
    "from nltk.corpus import stopwords\n",
    "\n",
    "stop = stopwords.words('english')\n",
    "porter = PorterStemmer()\n",
    "\n",
    "del stop[116]\n",
    "del stop[116]\n",
    "del stop[116]\n",
    "\n",
    "def tokenizer(text):\n",
    "    text = re.sub('<[^>]*>', '', text)\n",
    "    text = re.sub('[\\W]+', ' ', text.lower()).replace('-', '')\n",
    "    text = re.sub('[\\d]+', ' ', text.lower()).replace('-', '')\n",
    "    text = [w for w in text.split() if w not in stop]\n",
    "    return text"
   ]
  },
  {
   "cell_type": "markdown",
   "metadata": {},
   "source": [
    "Let's give it at try:"
   ]
  },
  {
   "cell_type": "code",
   "execution_count": 4,
   "metadata": {},
   "outputs": [
    {
     "data": {
      "text/plain": [
       "['test']"
      ]
     },
     "execution_count": 4,
     "metadata": {},
     "output_type": "execute_result"
    }
   ],
   "source": [
    "tokenizer('123 This :) is a <a> test! :-)</br> . ')"
   ]
  },
  {
   "cell_type": "markdown",
   "metadata": {},
   "source": [
    "## Learning (SciKit)"
   ]
  },
  {
   "cell_type": "markdown",
   "metadata": {},
   "source": [
    "First, we define a generator that returns the document body and the corresponding class label:"
   ]
  },
  {
   "cell_type": "code",
   "execution_count": 5,
   "metadata": {},
   "outputs": [],
   "source": [
    "def stream_docs(path):\n",
    "    with open(path, 'r') as csv:\n",
    "        next(csv) # skip header\n",
    "        for line in csv:\n",
    "            text, label = line[:-3], int(line[-2])\n",
    "            yield text, label"
   ]
  },
  {
   "cell_type": "markdown",
   "metadata": {},
   "source": [
    "To conform that the `stream_docs` function fetches the documents as intended, let us execute the following code snippet before we implement the `get_minibatch` function:"
   ]
  },
  {
   "cell_type": "code",
   "execution_count": 6,
   "metadata": {},
   "outputs": [
    {
     "data": {
      "text/plain": [
       "('\"In 1974, the teenager Martha Moxley (Maggie Grace) moves to the high-class area of Belle Haven, Greenwich, Connecticut. On the Mischief Night, eve of Halloween, she was murdered in the backyard of her house and her murder remained unsolved. Twenty-two years later, the writer Mark Fuhrman (Christopher Meloni), who is a former LA detective that has fallen in disgrace for perjury in O.J. Simpson trial and moved to Idaho, decides to investigate the case with his partner Stephen Weeks (Andrew Mitchell) with the purpose of writing a book. The locals squirm and do not welcome them, but with the support of the retired detective Steve Carroll (Robert Forster) that was in charge of the investigation in the 70\\'s, they discover the criminal and a net of power and money to cover the murder.<br /><br />\"\"Murder in Greenwich\"\" is a good TV movie, with the true story of a murder of a fifteen years old girl that was committed by a wealthy teenager whose mother was a Kennedy. The powerful and rich family used their influence to cover the murder for more than twenty years. However, a snoopy detective and convicted perjurer in disgrace was able to disclose how the hideous crime was committed. The screenplay shows the investigation of Mark and the last days of Martha in parallel, but there is a lack of the emotion in the dramatization. My vote is seven.<br /><br />Title (Brazil): Not Available\"',\n",
       " 1)"
      ]
     },
     "execution_count": 6,
     "metadata": {},
     "output_type": "execute_result"
    }
   ],
   "source": [
    "next(stream_docs(path='shuffled_movie_data.csv'))"
   ]
  },
  {
   "cell_type": "markdown",
   "metadata": {},
   "source": [
    "After we confirmed that our `stream_docs` functions works, we will now implement a `get_minibatch` function to fetch a specified number (`size`) of documents:"
   ]
  },
  {
   "cell_type": "code",
   "execution_count": 7,
   "metadata": {},
   "outputs": [],
   "source": [
    "def get_minibatch(doc_stream, size):\n",
    "    docs, y = [], []\n",
    "    for _ in range(size):\n",
    "        text, label = next(doc_stream)\n",
    "        docs.append(text)\n",
    "        y.append(label)\n",
    "    return docs, y"
   ]
  },
  {
   "cell_type": "markdown",
   "metadata": {},
   "source": [
    "Next, we will make use of the \"hashing trick\" through scikit-learns [HashingVectorizer](http://scikit-learn.org/stable/modules/generated/sklearn.feature_extraction.text.HashingVectorizer.html) to create a bag-of-words model of our documents. Details of the bag-of-words model for document classification can be found at  [Naive Bayes and Text Classification I - Introduction and Theory](http://arxiv.org/abs/1410.5329)."
   ]
  },
  {
   "cell_type": "code",
   "execution_count": 8,
   "metadata": {},
   "outputs": [],
   "source": [
    "from sklearn.feature_extraction.text import HashingVectorizer\n",
    "vect = HashingVectorizer(decode_error='ignore', \n",
    "                         n_features=2**21,\n",
    "                         preprocessor=None, \n",
    "                         tokenizer=tokenizer)\n",
    "\n",
    "# Exercise 1: define features based on word embeddings (pre-trained word2vec / Glove/Fastext emebddings can be used)\n",
    "# Define suitable d dimension, and sequence length"
   ]
  },
  {
   "cell_type": "markdown",
   "metadata": {},
   "source": [
    "# Obtener Nuevas Caracteristicas"
   ]
  },
  {
   "cell_type": "markdown",
   "metadata": {},
   "source": [
    "En este caso usaremos la libreria de Gensim, word2vect para obtener los vectores de cada palabra, usando como base 100 valores en cada vector."
   ]
  },
  {
   "cell_type": "code",
   "execution_count": 9,
   "metadata": {},
   "outputs": [],
   "source": [
    "from gensim.models import Word2Vec"
   ]
  },
  {
   "cell_type": "markdown",
   "metadata": {},
   "source": [
    "Para agilizar el proceso vamos a guardar en .csv los resultado obtenidos de aplicar la funcion de tokenizer sobre los review de la peliculas."
   ]
  },
  {
   "cell_type": "code",
   "execution_count": 10,
   "metadata": {},
   "outputs": [],
   "source": [
    "token_words = df['review'].apply(tokenizer)"
   ]
  },
  {
   "cell_type": "code",
   "execution_count": 11,
   "metadata": {},
   "outputs": [
    {
     "name": "stdout",
     "output_type": "stream",
     "text": [
      "0        [teenager, martha, moxley, maggie, grace, move...\n",
      "1        [ok, really, like, kris, kristofferson, usual,...\n",
      "2        [spoiler, not, read, think, watching, movie, a...\n",
      "3        [hi, people, seen, wonderful, movie, im, sure,...\n",
      "4        [recently, bought, dvd, forgetting, much, hate...\n",
      "5        [leave, braik, put, good, show, finally, zorak...\n",
      "6        [nathan, detroit, frank, sinatra, manager, new...\n",
      "7        [understand, crash, course, right, context, mu...\n",
      "8        [impressed, chavez, stance, globalisation, som...\n",
      "9        [movie, directed, renny, harlin, finnish, mira...\n",
      "10       [lived, u, p, let, tell, foggyest, idea, heck,...\n",
      "11       [hidden, frontier, notable, longest, running, ...\n",
      "12       [ago, seen, sleuth, two, great, actors, michae...\n",
      "13       [french, first, apparently, like, jerry, lewis...\n",
      "14       [strange, movie, unlike, anything, made, west,...\n",
      "15       [saw, movie, strength, single, positive, revie...\n",
      "16       [great, philosophical, questions, purpose, lif...\n",
      "17       [cast, surfer, dude, beach, scenes, almost, go...\n",
      "18       [high, hopes, one, changed, name, shepherd, bo...\n",
      "19       [set, near, poor, working, class, town, mounta...\n",
      "20       [opulent, sets, sumptuous, costumes, well, pho...\n",
      "21       [saw, film, got, screwed, film, foolish, borin...\n",
      "22       [getting, little, tired, people, misusing, god...\n",
      "23       [offensive, liked, movie, probably, never, ope...\n",
      "24       [else, say, movie, except, plain, awful, tina,...\n",
      "25       [certain, aspects, punishment, park, less, per...\n",
      "26       [first, like, tell, comics, anime, animation, ...\n",
      "27       [not, take, say, lightly, seen, many, many, fi...\n",
      "28       [love, jurassic, park, movies, three, time, fa...\n",
      "29       [first, series, lost, kicked, bang, literally,...\n",
      "                               ...                        \n",
      "49970    [tom, fontana, unforgettable, oz, hands, one, ...\n",
      "49971    [last, weekend, bought, zombie, movie, bargain...\n",
      "49972    [watched, first, moments, tcm, years, ago, sto...\n",
      "49973    [saw, movie, first, time, hbo, loved, hilariou...\n",
      "49974    [al, pacino, kim, basinger, tea, leoni, ryan, ...\n",
      "49975    [stanwyck, villainous, best, robinson, equal, ...\n",
      "49976    [allegation, aggravated, sexual, assault, alon...\n",
      "49977    [thought, movie, wonderfully, plotted, made, c...\n",
      "49978    [like, people, wait, see, ocean, sequel, reall...\n",
      "49979    [dark, comedy, gallows, humor, one, make, come...\n",
      "49980    [probably, contain, spoilers, successful, atte...\n",
      "49981    [must, one, guy, america, like, movie, guess, ...\n",
      "49982    [plot, trucker, kristofferson, battles, corrup...\n",
      "49983    [ladies, man, laugh, loud, funny, great, diver...\n",
      "49984    [well, artyfartyrati, cannes, may, liked, film...\n",
      "49985    [director, probably, still, early, learning, s...\n",
      "49986    [know, bus, someone, decides, tell, life, stor...\n",
      "49987    [five, minutes, movie, realize, seen, boiler, ...\n",
      "49988    [laughing, much, long, time, need, take, break...\n",
      "49989    [love, dissing, movie, peers, always, try, bes...\n",
      "49990    [ok, think, tv, show, kind, cute, always, kind...\n",
      "49991    [big, disappointment, clash, night, much, talk...\n",
      "49992    [cassidy, kacia, brady, puts, gun, mouth, blow...\n",
      "49993    [rapid, intercutting, scenes, insane, people, ...\n",
      "49994    [girlfight, came, reviews, praised, get, aroun...\n",
      "49995    [ok, lets, start, best, building, although, ha...\n",
      "49996    [british, heritage, film, industry, control, n...\n",
      "49997    [even, know, begin, one, family, worst, line, ...\n",
      "49998    [richard, tyler, little, boy, scared, everythi...\n",
      "49999    [waited, long, watch, movie, also, like, bruce...\n",
      "Name: review, Length: 50000, dtype: object\n"
     ]
    }
   ],
   "source": [
    "print(token_words)"
   ]
  },
  {
   "cell_type": "markdown",
   "metadata": {},
   "source": [
    "Para obtener los vectores de palabras, enviamos todas las palabra del review proprocesadas a la función Word2Vec, al no especificar un size, este se establece en 100, y guardamos el modelo para utilizarlo posteriormente."
   ]
  },
  {
   "cell_type": "code",
   "execution_count": 12,
   "metadata": {},
   "outputs": [],
   "source": [
    "model = Word2Vec(token_words, min_count=1)"
   ]
  },
  {
   "cell_type": "markdown",
   "metadata": {},
   "source": [
    "En el modelo final podemos ver que se tiene un vocabulario de 101487 palabras, esto representa una gran cantidad de entradas para la red neuronal."
   ]
  },
  {
   "cell_type": "code",
   "execution_count": 13,
   "metadata": {},
   "outputs": [
    {
     "name": "stdout",
     "output_type": "stream",
     "text": [
      "Word2Vec(vocab=101487, size=100, alpha=0.025)\n"
     ]
    }
   ],
   "source": [
    "print(model)"
   ]
  },
  {
   "cell_type": "markdown",
   "metadata": {},
   "source": [
    "Para realizar algunas pruebas podemos entrenar el modelo con la palabras y ver como obtenemos similaridad entre 2 vectores."
   ]
  },
  {
   "cell_type": "code",
   "execution_count": 14,
   "metadata": {},
   "outputs": [
    {
     "data": {
      "text/plain": [
       "(57290522, 59944050)"
      ]
     },
     "execution_count": 14,
     "metadata": {},
     "output_type": "execute_result"
    }
   ],
   "source": [
    "model.train(token_words, total_examples=len(token_words), epochs=10)"
   ]
  },
  {
   "cell_type": "markdown",
   "metadata": {},
   "source": [
    "Podemos ver obtenemos resultados semanticos de una palabra."
   ]
  },
  {
   "cell_type": "code",
   "execution_count": 14,
   "metadata": {},
   "outputs": [
    {
     "data": {
      "text/plain": [
       "[('grandmother', 0.745561957359314),\n",
       " ('daughter', 0.7072750926017761),\n",
       " ('sister', 0.6930811405181885),\n",
       " ('mom', 0.6729783415794373),\n",
       " ('roommate', 0.6648780107498169),\n",
       " ('envogue', 0.6546032428741455),\n",
       " ('brat', 0.6540639400482178),\n",
       " ('sabrina', 0.6520331501960754),\n",
       " ('spoiled', 0.6416873335838318),\n",
       " ('ager', 0.6410260200500488)]"
      ]
     },
     "execution_count": 14,
     "metadata": {},
     "output_type": "execute_result"
    }
   ],
   "source": [
    "model.wv.most_similar(['teenager'])"
   ]
  },
  {
   "cell_type": "markdown",
   "metadata": {},
   "source": [
    "# Exercise 1:"
   ]
  },
  {
   "cell_type": "markdown",
   "metadata": {},
   "source": [
    "Define a nonlinear function for hidden layers.\n",
    "\n",
    "Define a suitable loss function for binary classification\n",
    "\n",
    "Implement the backpropagation algorithm for this structure\n",
    "\n",
    "Do not use Keras / Tensorflow /PyTorch etc. libraries\n",
    "\n",
    "Train the model using SGD\n"
   ]
  },
  {
   "cell_type": "markdown",
   "metadata": {},
   "source": [
    "Obtenemos la mayor cantidad de palabras de los review para igualar todas las entradas a la red neuronal, obtenemos 1420 como maximo."
   ]
  },
  {
   "cell_type": "code",
   "execution_count": 15,
   "metadata": {},
   "outputs": [
    {
     "name": "stdout",
     "output_type": "stream",
     "text": [
      "1420\n"
     ]
    }
   ],
   "source": [
    "max_l = 0\n",
    "\n",
    "for token in token_words.values:\n",
    "    if max_l < len(token):\n",
    "        max_l = len(token)\n",
    "print(max_l)\n"
   ]
  },
  {
   "cell_type": "code",
   "execution_count": 16,
   "metadata": {},
   "outputs": [],
   "source": [
    "temp_arr = []"
   ]
  },
  {
   "cell_type": "markdown",
   "metadata": {},
   "source": [
    "Definimos la funcion getMean() que obtendra la media de cada vector de palabras, de esta forma podemos obtener un solo valor y usarlo como entrada."
   ]
  },
  {
   "cell_type": "code",
   "execution_count": 17,
   "metadata": {},
   "outputs": [],
   "source": [
    "def getMean(list_v):\n",
    "    sum_n = 0\n",
    "    for num in list_v:\n",
    "        sum_n += num\n",
    "    return sum_n / len(list_v)"
   ]
  },
  {
   "cell_type": "markdown",
   "metadata": {},
   "source": [
    "Para poder realizar operaciones con mayor velocidad convertimos los datos a numpy arrays y los formateamos de forma que podamos usarlo en la red Neuronal."
   ]
  },
  {
   "cell_type": "code",
   "execution_count": 18,
   "metadata": {},
   "outputs": [],
   "source": [
    "for token in token_words:\n",
    "    temp = []\n",
    "    for wd in token:\n",
    "        temp.append(getMean(model.wv.__getitem__(wd)))\n",
    "    for idx in range(max_l - len(token)):\n",
    "        temp.append(0)\n",
    "    temp_arr.append(temp)"
   ]
  },
  {
   "cell_type": "code",
   "execution_count": 19,
   "metadata": {},
   "outputs": [],
   "source": [
    "arr_data = []\n",
    "for idx, tmp in enumerate(temp_arr):\n",
    "    t = []\n",
    "    t.append(tmp)\n",
    "    t.append([df['sentiment'][idx]])\n",
    "    arr_data.append(t)"
   ]
  },
  {
   "cell_type": "markdown",
   "metadata": {},
   "source": [
    "# Red Neuronal Recurrente"
   ]
  },
  {
   "cell_type": "markdown",
   "metadata": {},
   "source": [
    "Despues de la definición de la red Neuronal, terminamos de dar formato a nuestro dataSet, de forma que podamos usarlo con nuestra red definida."
   ]
  },
  {
   "cell_type": "code",
   "execution_count": 21,
   "metadata": {},
   "outputs": [],
   "source": [
    "np_x = np.array(temp_arr)  \n",
    "\n",
    "y = df['sentiment'].values\n",
    "y_t = []\n",
    "for idx, i in enumerate(y):\n",
    "    y_t.append([y[idx]])\n",
    "np_y = np.array(y_t) \n"
   ]
  },
  {
   "cell_type": "markdown",
   "metadata": {},
   "source": [
    "En np_x y np_y, guardamos los valores a ser entrenados, pero para realizar la validación separaremos esta data en 2 grupos con train_test_split, con el que usarmos el 80% de la data en entrenamiento y el otro 20% en la validación."
   ]
  },
  {
   "cell_type": "code",
   "execution_count": 26,
   "metadata": {},
   "outputs": [
    {
     "name": "stdout",
     "output_type": "stream",
     "text": [
      "(50000,)\n",
      "(50000, 2)\n",
      "((33500, 1420), (33500, 2))\n",
      "((16500, 1420), (16500, 2))\n"
     ]
    }
   ],
   "source": [
    "y_binary = to_categorical(df['sentiment'].values)\n",
    "print(Y.shape)\n",
    "print(y_binary.shape)\n",
    "X_train, X_test, Y_train, Y_test = train_test_split(np_x,y_binary, test_size = 0.2)\n",
    "print(X_train.shape,Y_train.shape)\n",
    "print(X_test.shape,Y_test.shape)"
   ]
  },
  {
   "cell_type": "code",
   "execution_count": 29,
   "metadata": {},
   "outputs": [],
   "source": [
    "fatures = 2000"
   ]
  },
  {
   "cell_type": "code",
   "execution_count": 40,
   "metadata": {},
   "outputs": [
    {
     "name": "stdout",
     "output_type": "stream",
     "text": [
      "_________________________________________________________________\n",
      "Layer (type)                 Output Shape              Param #   \n",
      "=================================================================\n",
      "embedding_4 (Embedding)      (None, 1420, 128)         256000    \n",
      "_________________________________________________________________\n",
      "spatial_dropout1d_4 (Spatial (None, 1420, 128)         0         \n",
      "_________________________________________________________________\n",
      "lstm_4 (LSTM)                (None, 256)               394240    \n",
      "_________________________________________________________________\n",
      "dense_4 (Dense)              (None, 2)                 514       \n",
      "=================================================================\n",
      "Total params: 650,754\n",
      "Trainable params: 650,754\n",
      "Non-trainable params: 0\n",
      "_________________________________________________________________\n",
      "None\n"
     ]
    }
   ],
   "source": [
    "model = Sequential()\n",
    "model.add(Embedding(fatures, 128,input_length = X_train.shape[1]))\n",
    "model.add(SpatialDropout1D(0.4))\n",
    "model.add(LSTM(256, dropout=0.2, recurrent_dropout=0.2))\n",
    "model.add(Dense(2, activation='sigmoid'))\n",
    "model.compile(loss = 'binary_crossentropy', optimizer='adam')\n",
    "print(model.summary())"
   ]
  },
  {
   "cell_type": "code",
   "execution_count": null,
   "metadata": {},
   "outputs": [
    {
     "name": "stdout",
     "output_type": "stream",
     "text": [
      "Epoch 1/7\n",
      " 2256/33500 [=>............................] - ETA: 3:05:58 - loss: 0.6936"
     ]
    }
   ],
   "source": [
    "\n",
    "batch_size = 24\n",
    "model.fit(X_train, Y_train, epochs = 7, batch_size=batch_size)"
   ]
  },
  {
   "cell_type": "code",
   "execution_count": null,
   "metadata": {},
   "outputs": [],
   "source": [
    "#Calc accuracy (validation) with 1500\n",
    "val_size = 1500\n",
    "X_validate = X_test[-val_size:]\n",
    "Y_validate = Y_test[-val_size:]\n",
    "X_test = X_test[:-val_size]\n",
    "Y_test = Y_test[:-val_size]\n",
    "score,acc = model.evaluate(X_test, Y_test, verbose = 2, batch_size = batch_size)\n",
    "print(\"score: %.2f\" % (score))\n",
    "print(\"acc: %.2f\" % (acc))"
   ]
  },
  {
   "cell_type": "markdown",
   "metadata": {},
   "source": [
    "Obtenemos un accuracy de : 51% "
   ]
  },
  {
   "cell_type": "code",
   "execution_count": null,
   "metadata": {},
   "outputs": [],
   "source": []
  },
  {
   "cell_type": "code",
   "execution_count": null,
   "metadata": {},
   "outputs": [],
   "source": []
  },
  {
   "cell_type": "code",
   "execution_count": null,
   "metadata": {},
   "outputs": [],
   "source": []
  },
  {
   "cell_type": "code",
   "execution_count": 30,
   "metadata": {},
   "outputs": [
    {
     "data": {
      "image/png": "[encoded data removed]",
      "text/plain": [
       "<Figure size 432x288 with 1 Axes>"
      ]
     },
     "metadata": {
      "needs_background": "light"
     },
     "output_type": "display_data"
    }
   ],
   "source": [
    "deltas = nn.get_deltas()\n",
    "valores=[]\n",
    "index=0\n",
    "for arreglo in deltas:\n",
    "    valores.append(arreglo[0] + arreglo[1])\n",
    "    index=index+1\n",
    " \n",
    "plt.plot(range(len(valores)), valores, color='b')\n",
    "plt.ylim([0, 0.6])\n",
    "plt.ylabel('Cost')\n",
    "plt.xlabel('Epochs')\n",
    "plt.tight_layout()\n",
    "plt.show()"
   ]
  },
  {
   "cell_type": "markdown",
   "metadata": {},
   "source": [
    "Y en el grafico de como obtenemos los deltas que son los errores, vemos como baja de 0.3 a 0.2"
   ]
  },
  {
   "cell_type": "code",
   "execution_count": null,
   "metadata": {},
   "outputs": [],
   "source": []
  }
 ],
 "metadata": {
  "kernelspec": {
   "display_name": "Python 2",
   "language": "python",
   "name": "python2"
  },
  "language_info": {
   "codemirror_mode": {
    "name": "ipython",
    "version": 2
   },
   "file_extension": ".py",
   "mimetype": "text/x-python",
   "name": "python",
   "nbconvert_exporter": "python",
   "pygments_lexer": "ipython2",
   "version": "2.7.15"
  }
 },
 "nbformat": 4,
 "nbformat_minor": 1
}
