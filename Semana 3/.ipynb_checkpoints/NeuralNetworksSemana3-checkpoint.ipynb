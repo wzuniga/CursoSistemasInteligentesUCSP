{
 "cells": [
  {
   "cell_type": "markdown",
   "metadata": {},
   "source": [
    "# Logistic Regression for Sentiment Analysis"
   ]
  },
  {
   "cell_type": "markdown",
   "metadata": {},
   "source": [
    "Adapted from http://nbviewer.jupyter.org/github/rasbt/pattern_classification/blob/master/machine_learning/scikit-learn/outofcore_modelpersistence.ipynb"
   ]
  },
  {
   "cell_type": "markdown",
   "metadata": {},
   "source": [
    "<br>\n",
    "<br>"
   ]
  },
  {
   "cell_type": "markdown",
   "metadata": {},
   "source": [
    "## The IMDb Movie Review Dataset"
   ]
  },
  {
   "cell_type": "markdown",
   "metadata": {},
   "source": [
    "In this section, we will train a simple logistic regression model to classify movie reviews from the 50k IMDb review dataset that has been collected by Maas et. al.\n",
    "\n",
    "> AL Maas, RE Daly, PT Pham, D Huang, AY Ng, and C Potts. Learning word vectors for sentiment analysis. In Proceedings of the 49th Annual Meeting of the Association for Computational Lin- guistics: Human Language Technologies, pages 142–150, Portland, Oregon, USA, June 2011. Association for Computational Linguistics\n",
    "\n",
    "[Source: http://ai.stanford.edu/~amaas/data/sentiment/]\n",
    "\n",
    "The dataset consists of 50,000 movie reviews from the original \"train\" and \"test\" subdirectories. The class labels are binary (1=positive and 0=negative) and contain 25,000 positive and 25,000 negative movie reviews, respectively.\n",
    "For simplicity, I assembled the reviews in a single CSV file.\n"
   ]
  },
  {
   "cell_type": "code",
   "execution_count": 1,
   "metadata": {},
   "outputs": [
    {
     "data": {
      "text/html": [
       "<div>\n",
       "<style scoped>\n",
       "    .dataframe tbody tr th:only-of-type {\n",
       "        vertical-align: middle;\n",
       "    }\n",
       "\n",
       "    .dataframe tbody tr th {\n",
       "        vertical-align: top;\n",
       "    }\n",
       "\n",
       "    .dataframe thead th {\n",
       "        text-align: right;\n",
       "    }\n",
       "</style>\n",
       "<table border=\"1\" class=\"dataframe\">\n",
       "  <thead>\n",
       "    <tr style=\"text-align: right;\">\n",
       "      <th></th>\n",
       "      <th>review</th>\n",
       "      <th>sentiment</th>\n",
       "    </tr>\n",
       "  </thead>\n",
       "  <tbody>\n",
       "    <tr>\n",
       "      <th>49995</th>\n",
       "      <td>OK, lets start with the best. the building. al...</td>\n",
       "      <td>0</td>\n",
       "    </tr>\n",
       "    <tr>\n",
       "      <th>49996</th>\n",
       "      <td>The British 'heritage film' industry is out of...</td>\n",
       "      <td>0</td>\n",
       "    </tr>\n",
       "    <tr>\n",
       "      <th>49997</th>\n",
       "      <td>I don't even know where to begin on this one. ...</td>\n",
       "      <td>0</td>\n",
       "    </tr>\n",
       "    <tr>\n",
       "      <th>49998</th>\n",
       "      <td>Richard Tyler is a little boy who is scared of...</td>\n",
       "      <td>0</td>\n",
       "    </tr>\n",
       "    <tr>\n",
       "      <th>49999</th>\n",
       "      <td>I waited long to watch this movie. Also becaus...</td>\n",
       "      <td>1</td>\n",
       "    </tr>\n",
       "  </tbody>\n",
       "</table>\n",
       "</div>"
      ],
      "text/plain": [
       "                                                  review  sentiment\n",
       "49995  OK, lets start with the best. the building. al...          0\n",
       "49996  The British 'heritage film' industry is out of...          0\n",
       "49997  I don't even know where to begin on this one. ...          0\n",
       "49998  Richard Tyler is a little boy who is scared of...          0\n",
       "49999  I waited long to watch this movie. Also becaus...          1"
      ]
     },
     "execution_count": 1,
     "metadata": {},
     "output_type": "execute_result"
    }
   ],
   "source": [
    "import pandas as pd\n",
    "from sklearn.model_selection import train_test_split\n",
    "import matplotlib.pyplot as plt\n",
    "\n",
    "# if you want to download the original file:\n",
    "#df = pd.read_csv('https://raw.githubusercontent.com/rasbt/pattern_classification/master/data/50k_imdb_movie_reviews.csv')\n",
    "# otherwise load local file\n",
    "df = pd.read_csv('shuffled_movie_data.csv')\n",
    "df.tail()"
   ]
  },
  {
   "cell_type": "markdown",
   "metadata": {},
   "source": [
    "Let us shuffle the class labels."
   ]
  },
  {
   "cell_type": "code",
   "execution_count": 2,
   "metadata": {},
   "outputs": [],
   "source": [
    "import numpy as np"
   ]
  },
  {
   "cell_type": "markdown",
   "metadata": {},
   "source": [
    "<br>\n",
    "<br>"
   ]
  },
  {
   "cell_type": "markdown",
   "metadata": {},
   "source": [
    "## Preprocessing Text Data"
   ]
  },
  {
   "cell_type": "markdown",
   "metadata": {},
   "source": [
    "Se modifico la funcion tokenizer para que funcione de mejor forma con word2vect y asi acotar el resultado del vocabulario."
   ]
  },
  {
   "cell_type": "code",
   "execution_count": 3,
   "metadata": {},
   "outputs": [],
   "source": [
    "import numpy as np\n",
    "from nltk.stem.porter import PorterStemmer\n",
    "import re\n",
    "from nltk.corpus import stopwords\n",
    "\n",
    "stop = stopwords.words('english')\n",
    "porter = PorterStemmer()\n",
    "\n",
    "del stop[116]\n",
    "del stop[116]\n",
    "del stop[116]\n",
    "\n",
    "def tokenizer(text):\n",
    "    text = re.sub('<[^>]*>', '', text)\n",
    "    text = re.sub('[\\W]+', ' ', text.lower()).replace('-', '')\n",
    "    text = re.sub('[\\d]+', ' ', text.lower()).replace('-', '')\n",
    "    text = [w for w in text.split() if w not in stop]\n",
    "    return text"
   ]
  },
  {
   "cell_type": "markdown",
   "metadata": {},
   "source": [
    "Let's give it at try:"
   ]
  },
  {
   "cell_type": "code",
   "execution_count": 4,
   "metadata": {},
   "outputs": [
    {
     "data": {
      "text/plain": [
       "['test']"
      ]
     },
     "execution_count": 4,
     "metadata": {},
     "output_type": "execute_result"
    }
   ],
   "source": [
    "tokenizer('123 This :) is a <a> test! :-)</br> . ')"
   ]
  },
  {
   "cell_type": "markdown",
   "metadata": {},
   "source": [
    "## Learning (SciKit)"
   ]
  },
  {
   "cell_type": "markdown",
   "metadata": {},
   "source": [
    "First, we define a generator that returns the document body and the corresponding class label:"
   ]
  },
  {
   "cell_type": "code",
   "execution_count": 5,
   "metadata": {},
   "outputs": [],
   "source": [
    "def stream_docs(path):\n",
    "    with open(path, 'r') as csv:\n",
    "        next(csv) # skip header\n",
    "        for line in csv:\n",
    "            text, label = line[:-3], int(line[-2])\n",
    "            yield text, label"
   ]
  },
  {
   "cell_type": "markdown",
   "metadata": {},
   "source": [
    "To conform that the `stream_docs` function fetches the documents as intended, let us execute the following code snippet before we implement the `get_minibatch` function:"
   ]
  },
  {
   "cell_type": "code",
   "execution_count": 6,
   "metadata": {},
   "outputs": [
    {
     "data": {
      "text/plain": [
       "('\"In 1974, the teenager Martha Moxley (Maggie Grace) moves to the high-class area of Belle Haven, Greenwich, Connecticut. On the Mischief Night, eve of Halloween, she was murdered in the backyard of her house and her murder remained unsolved. Twenty-two years later, the writer Mark Fuhrman (Christopher Meloni), who is a former LA detective that has fallen in disgrace for perjury in O.J. Simpson trial and moved to Idaho, decides to investigate the case with his partner Stephen Weeks (Andrew Mitchell) with the purpose of writing a book. The locals squirm and do not welcome them, but with the support of the retired detective Steve Carroll (Robert Forster) that was in charge of the investigation in the 70\\'s, they discover the criminal and a net of power and money to cover the murder.<br /><br />\"\"Murder in Greenwich\"\" is a good TV movie, with the true story of a murder of a fifteen years old girl that was committed by a wealthy teenager whose mother was a Kennedy. The powerful and rich family used their influence to cover the murder for more than twenty years. However, a snoopy detective and convicted perjurer in disgrace was able to disclose how the hideous crime was committed. The screenplay shows the investigation of Mark and the last days of Martha in parallel, but there is a lack of the emotion in the dramatization. My vote is seven.<br /><br />Title (Brazil): Not Available\"',\n",
       " 1)"
      ]
     },
     "execution_count": 6,
     "metadata": {},
     "output_type": "execute_result"
    }
   ],
   "source": [
    "next(stream_docs(path='shuffled_movie_data.csv'))"
   ]
  },
  {
   "cell_type": "markdown",
   "metadata": {},
   "source": [
    "After we confirmed that our `stream_docs` functions works, we will now implement a `get_minibatch` function to fetch a specified number (`size`) of documents:"
   ]
  },
  {
   "cell_type": "code",
   "execution_count": 7,
   "metadata": {},
   "outputs": [],
   "source": [
    "def get_minibatch(doc_stream, size):\n",
    "    docs, y = [], []\n",
    "    for _ in range(size):\n",
    "        text, label = next(doc_stream)\n",
    "        docs.append(text)\n",
    "        y.append(label)\n",
    "    return docs, y"
   ]
  },
  {
   "cell_type": "markdown",
   "metadata": {},
   "source": [
    "Next, we will make use of the \"hashing trick\" through scikit-learns [HashingVectorizer](http://scikit-learn.org/stable/modules/generated/sklearn.feature_extraction.text.HashingVectorizer.html) to create a bag-of-words model of our documents. Details of the bag-of-words model for document classification can be found at  [Naive Bayes and Text Classification I - Introduction and Theory](http://arxiv.org/abs/1410.5329)."
   ]
  },
  {
   "cell_type": "code",
   "execution_count": 8,
   "metadata": {},
   "outputs": [],
   "source": [
    "from sklearn.feature_extraction.text import HashingVectorizer\n",
    "vect = HashingVectorizer(decode_error='ignore', \n",
    "                         n_features=2**21,\n",
    "                         preprocessor=None, \n",
    "                         tokenizer=tokenizer)\n",
    "\n",
    "# Exercise 1: define features based on word embeddings (pre-trained word2vec / Glove/Fastext emebddings can be used)\n",
    "# Define suitable d dimension, and sequence length"
   ]
  },
  {
   "cell_type": "markdown",
   "metadata": {},
   "source": [
    "# Obtener Nuevas Caracteristicas (Word Embedding)- Ejercicio 1"
   ]
  },
  {
   "cell_type": "markdown",
   "metadata": {},
   "source": [
    "En este caso usaremos la libreria de Gensim, word2vect para obtener los vectores de cada palabra, usando como base 100 valores en cada vector."
   ]
  },
  {
   "cell_type": "code",
   "execution_count": 9,
   "metadata": {},
   "outputs": [],
   "source": [
    "from gensim.models import Word2Vec"
   ]
  },
  {
   "cell_type": "markdown",
   "metadata": {},
   "source": [
    "Para agilizar el proceso vamos a guardar en .csv los resultado obtenidos de aplicar la funcion de tokenizer sobre los review de la peliculas."
   ]
  },
  {
   "cell_type": "code",
   "execution_count": 10,
   "metadata": {},
   "outputs": [],
   "source": [
    "flag_tok = True\n",
    "flag_model_build = False\n",
    "\n",
    "if flag_tok:\n",
    "    token_words = df['review'].apply(tokenizer)\n",
    "    token_words.to_csv(\"token_words.csv\", index= False)\n",
    "else:\n",
    "    token_words = pd.read_csv(\"token_words.csv\", header = None)"
   ]
  },
  {
   "cell_type": "code",
   "execution_count": 11,
   "metadata": {},
   "outputs": [
    {
     "name": "stdout",
     "output_type": "stream",
     "text": [
      "0        [teenager, martha, moxley, maggie, grace, move...\n",
      "1        [ok, really, like, kris, kristofferson, usual,...\n",
      "2        [spoiler, not, read, think, watching, movie, a...\n",
      "3        [hi, people, seen, wonderful, movie, im, sure,...\n",
      "4        [recently, bought, dvd, forgetting, much, hate...\n",
      "5        [leave, braik, put, good, show, finally, zorak...\n",
      "6        [nathan, detroit, frank, sinatra, manager, new...\n",
      "7        [understand, crash, course, right, context, mu...\n",
      "8        [impressed, chavez, stance, globalisation, som...\n",
      "9        [movie, directed, renny, harlin, finnish, mira...\n",
      "10       [lived, u, p, let, tell, foggyest, idea, heck,...\n",
      "11       [hidden, frontier, notable, longest, running, ...\n",
      "12       [ago, seen, sleuth, two, great, actors, michae...\n",
      "13       [french, first, apparently, like, jerry, lewis...\n",
      "14       [strange, movie, unlike, anything, made, west,...\n",
      "15       [saw, movie, strength, single, positive, revie...\n",
      "16       [great, philosophical, questions, purpose, lif...\n",
      "17       [cast, surfer, dude, beach, scenes, almost, go...\n",
      "18       [high, hopes, one, changed, name, shepherd, bo...\n",
      "19       [set, near, poor, working, class, town, mounta...\n",
      "20       [opulent, sets, sumptuous, costumes, well, pho...\n",
      "21       [saw, film, got, screwed, film, foolish, borin...\n",
      "22       [getting, little, tired, people, misusing, god...\n",
      "23       [offensive, liked, movie, probably, never, ope...\n",
      "24       [else, say, movie, except, plain, awful, tina,...\n",
      "25       [certain, aspects, punishment, park, less, per...\n",
      "26       [first, like, tell, comics, anime, animation, ...\n",
      "27       [not, take, say, lightly, seen, many, many, fi...\n",
      "28       [love, jurassic, park, movies, three, time, fa...\n",
      "29       [first, series, lost, kicked, bang, literally,...\n",
      "                               ...                        \n",
      "49970    [tom, fontana, unforgettable, oz, hands, one, ...\n",
      "49971    [last, weekend, bought, zombie, movie, bargain...\n",
      "49972    [watched, first, moments, tcm, years, ago, sto...\n",
      "49973    [saw, movie, first, time, hbo, loved, hilariou...\n",
      "49974    [al, pacino, kim, basinger, tea, leoni, ryan, ...\n",
      "49975    [stanwyck, villainous, best, robinson, equal, ...\n",
      "49976    [allegation, aggravated, sexual, assault, alon...\n",
      "49977    [thought, movie, wonderfully, plotted, made, c...\n",
      "49978    [like, people, wait, see, ocean, sequel, reall...\n",
      "49979    [dark, comedy, gallows, humor, one, make, come...\n",
      "49980    [probably, contain, spoilers, successful, atte...\n",
      "49981    [must, one, guy, america, like, movie, guess, ...\n",
      "49982    [plot, trucker, kristofferson, battles, corrup...\n",
      "49983    [ladies, man, laugh, loud, funny, great, diver...\n",
      "49984    [well, artyfartyrati, cannes, may, liked, film...\n",
      "49985    [director, probably, still, early, learning, s...\n",
      "49986    [know, bus, someone, decides, tell, life, stor...\n",
      "49987    [five, minutes, movie, realize, seen, boiler, ...\n",
      "49988    [laughing, much, long, time, need, take, break...\n",
      "49989    [love, dissing, movie, peers, always, try, bes...\n",
      "49990    [ok, think, tv, show, kind, cute, always, kind...\n",
      "49991    [big, disappointment, clash, night, much, talk...\n",
      "49992    [cassidy, kacia, brady, puts, gun, mouth, blow...\n",
      "49993    [rapid, intercutting, scenes, insane, people, ...\n",
      "49994    [girlfight, came, reviews, praised, get, aroun...\n",
      "49995    [ok, lets, start, best, building, although, ha...\n",
      "49996    [british, heritage, film, industry, control, n...\n",
      "49997    [even, know, begin, one, family, worst, line, ...\n",
      "49998    [richard, tyler, little, boy, scared, everythi...\n",
      "49999    [waited, long, watch, movie, also, like, bruce...\n",
      "Name: review, Length: 50000, dtype: object\n"
     ]
    }
   ],
   "source": [
    "print(token_words)"
   ]
  },
  {
   "cell_type": "markdown",
   "metadata": {},
   "source": [
    "Para obtener los vectores de palabras, enviamos todas las palabra del review proprocesadas a la función Word2Vec, al no especificar un size, este se establece en 100, y guardamos el modelo para utilizarlo posteriormente."
   ]
  },
  {
   "cell_type": "code",
   "execution_count": 16,
   "metadata": {},
   "outputs": [],
   "source": [
    "if flag_model_build:\n",
    "    model = Word2Vec(token_words, min_count=1)\n",
    "    model.save('model.bin')\n",
    "else:\n",
    "    model = Word2Vec.load('model.bin')"
   ]
  },
  {
   "cell_type": "markdown",
   "metadata": {},
   "source": [
    "En el modelo final podemos ver que se tiene un vocabulario de 101487 palabras, esto representa una gran cantidad de entradas para la red neuronal."
   ]
  },
  {
   "cell_type": "code",
   "execution_count": 17,
   "metadata": {},
   "outputs": [
    {
     "name": "stdout",
     "output_type": "stream",
     "text": [
      "Word2Vec(vocab=101487, size=100, alpha=0.025)\n"
     ]
    }
   ],
   "source": [
    "print(model)"
   ]
  },
  {
   "cell_type": "markdown",
   "metadata": {},
   "source": [
    "Para realizar algunas pruebas podemos entrenar el modelo con la palabras y ver como obtenemos similaridad entre 2 vectores."
   ]
  },
  {
   "cell_type": "code",
   "execution_count": 18,
   "metadata": {},
   "outputs": [
    {
     "data": {
      "text/plain": [
       "(57291669, 59944050)"
      ]
     },
     "execution_count": 18,
     "metadata": {},
     "output_type": "execute_result"
    }
   ],
   "source": [
    "model.train(token_words, total_examples=len(token_words), epochs=10)"
   ]
  },
  {
   "cell_type": "markdown",
   "metadata": {},
   "source": [
    "Podemos ver obtenemos resultados semanticos de una palabra."
   ]
  },
  {
   "cell_type": "code",
   "execution_count": 19,
   "metadata": {},
   "outputs": [
    {
     "data": {
      "text/plain": [
       "[('kid', 0.6005411148071289),\n",
       " ('child', 0.5976043939590454),\n",
       " ('teen', 0.5836172103881836),\n",
       " ('teens', 0.5708059072494507),\n",
       " ('parents', 0.5512663722038269),\n",
       " ('daughter', 0.5364197492599487),\n",
       " ('teenage', 0.5272810459136963),\n",
       " ('mom', 0.5271278619766235),\n",
       " ('brat', 0.5270594358444214),\n",
       " ('spoiled', 0.5245445966720581)]"
      ]
     },
     "execution_count": 19,
     "metadata": {},
     "output_type": "execute_result"
    }
   ],
   "source": [
    "model.wv.most_similar(['teenager'])"
   ]
  },
  {
   "cell_type": "markdown",
   "metadata": {},
   "source": [
    "# Exercise 2: Define at least a Three layer neural network. Define its structure (number of hidden neurons, etc)"
   ]
  },
  {
   "cell_type": "markdown",
   "metadata": {},
   "source": [
    "Define a nonlinear function for hidden layers.\n",
    "\n",
    "Define a suitable loss function for binary classification\n",
    "\n",
    "Implement the backpropagation algorithm for this structure\n",
    "\n",
    "Do not use Keras / Tensorflow /PyTorch etc. libraries\n",
    "\n",
    "Train the model using SGD\n"
   ]
  },
  {
   "cell_type": "markdown",
   "metadata": {},
   "source": [
    "Obtenemos la mayor cantidad de palabras de los review para igualar todas las entradas a la red neuronal, obtenemos 1420 como maximo."
   ]
  },
  {
   "cell_type": "code",
   "execution_count": 20,
   "metadata": {},
   "outputs": [
    {
     "name": "stdout",
     "output_type": "stream",
     "text": [
      "1420\n"
     ]
    }
   ],
   "source": [
    "max_l = 0\n",
    "\n",
    "for token in token_words.values:\n",
    "    if max_l < len(token):\n",
    "        max_l = len(token)\n",
    "print(max_l)\n"
   ]
  },
  {
   "cell_type": "code",
   "execution_count": 21,
   "metadata": {},
   "outputs": [],
   "source": [
    "temp_arr = []"
   ]
  },
  {
   "cell_type": "markdown",
   "metadata": {},
   "source": [
    "Definimos la funcion getMean() que obtendra la media de cada vector de palabras, de esta forma podemos obtener un solo valor y usarlo como entrada."
   ]
  },
  {
   "cell_type": "code",
   "execution_count": 22,
   "metadata": {},
   "outputs": [],
   "source": [
    "def getMean(list_v):\n",
    "    sum_n = 0\n",
    "    for num in list_v:\n",
    "        sum_n += num\n",
    "    return sum_n / len(list_v)"
   ]
  },
  {
   "cell_type": "markdown",
   "metadata": {},
   "source": [
    "Para poder realizar operaciones con mayor velocidad convertimos los datos a numpy arrays y los formateamos de forma que podamos usarlo en la red Neuronal."
   ]
  },
  {
   "cell_type": "code",
   "execution_count": 23,
   "metadata": {},
   "outputs": [],
   "source": [
    "for token in token_words:\n",
    "    temp = []\n",
    "    for wd in token:\n",
    "        temp.append(getMean(model.wv.__getitem__(wd)))\n",
    "    for idx in range(max_l - len(token)):\n",
    "        temp.append(0)\n",
    "    temp_arr.append(temp)"
   ]
  },
  {
   "cell_type": "code",
   "execution_count": 24,
   "metadata": {},
   "outputs": [],
   "source": [
    "arr_data = []\n",
    "for idx, tmp in enumerate(temp_arr):\n",
    "    t = []\n",
    "    t.append(tmp)\n",
    "    t.append([df['sentiment'][idx]])\n",
    "    arr_data.append(t)"
   ]
  },
  {
   "cell_type": "markdown",
   "metadata": {},
   "source": [
    "# Red Neuronal"
   ]
  },
  {
   "cell_type": "markdown",
   "metadata": {},
   "source": [
    "Definimos la red neuronal con dos variantes, en la funcion de costo, una sigmoidea y otra tangente, con sus respectivas formas derivadas."
   ]
  },
  {
   "cell_type": "code",
   "execution_count": 25,
   "metadata": {},
   "outputs": [],
   "source": [
    "import numpy as np\n",
    " \n",
    "def sigmoid(x):\n",
    "    return 1.0/(1.0 + np.exp(-x))\n",
    " \n",
    "def sigmoid_derivada(x):\n",
    "    return sigmoid(x)*(1.0-sigmoid(x))\n",
    " \n",
    "def tanh(x):\n",
    "    return np.tanh(x)\n",
    " \n",
    "def tanh_derivada(x):\n",
    "    return 1.0 - x**2\n",
    " \n",
    " \n",
    "class NeuralNetwork:\n",
    " \n",
    "    def __init__(self, layers, activation='tanh'):\n",
    "        if activation == 'sigmoid':\n",
    "            self.activation = sigmoid\n",
    "            self.activation_prime = sigmoid_derivada\n",
    "        elif activation == 'tanh':\n",
    "            self.activation = tanh\n",
    "            self.activation_prime = tanh_derivada\n",
    " \n",
    "        # inicializo los pesos\n",
    "        self.weights = []\n",
    "        self.deltas = []\n",
    "\n",
    "        # asigno valores aleatorios a capa de entrada y capa oculta\n",
    "        for i in range(1, len(layers) - 1):\n",
    "            r = 2*np.random.random((layers[i-1] + 1, layers[i] + 1)) -1\n",
    "            self.weights.append(r)\n",
    "            \n",
    "        # asigno aleatorios a capa de salida\n",
    "        r = 2*np.random.random( (layers[i] + 1, layers[i+1])) - 1\n",
    "        self.weights.append(r)\n",
    " \n",
    "    def fit(self, X, y, learning_rate=0.2, epochs=100000):\n",
    "        # Agrego columna de unos a las entradas X\n",
    "        # Con esto agregamos la unidad de Bias a la capa de entrada\n",
    "        ones = np.atleast_2d(np.ones(X.shape[0]))\n",
    "        X = np.concatenate((ones.T, X), axis=1)\n",
    "        \n",
    "        for k in range(epochs):\n",
    "            i = np.random.randint(X.shape[0])\n",
    "            a = [X[i]]\n",
    " \n",
    "            for l in range(len(self.weights)):\n",
    "                    dot_value = np.dot(a[l], self.weights[l])\n",
    "                    activation = self.activation(dot_value)\n",
    "                    a.append(activation)\n",
    "                    \n",
    "            # Calculo la diferencia en la capa de salida y el valor obtenido\n",
    "            error = y[i] - a[-1]\n",
    "            deltas = [error * self.activation_prime(a[-1])]\n",
    "            \n",
    "            # Empezamos en el segundo layer hasta el ultimo\n",
    "            # (Una capa anterior a la de salida)\n",
    "            for l in range(len(a) - 2, 0, -1): \n",
    "                deltas.append(deltas[-1].dot(self.weights[l].T)*self.activation_prime(a[l]))\n",
    "            self.deltas.append(deltas)\n",
    "\n",
    "            deltas.reverse()\n",
    "\n",
    "            for i in range(len(self.weights)):\n",
    "                layer = np.atleast_2d(a[i])\n",
    "                delta = np.atleast_2d(deltas[i])\n",
    "                self.weights[i] += learning_rate * layer.T.dot(delta)\n",
    " \n",
    "            if k % 10000 == 0: print('epoca:', k)\n",
    " \n",
    "    def predict(self, x): \n",
    "        ones = np.atleast_2d(np.ones(x.shape[0]))\n",
    "        a = np.concatenate((np.ones(1).T, np.array(x)), axis=0)\n",
    "        for l in range(0, len(self.weights)):\n",
    "            a = self.activation(np.dot(a, self.weights[l]))\n",
    "        return a\n",
    " \n",
    "    def print_weights(self):\n",
    "        print(\"LISTADO PESOS: \")\n",
    "        for i in range(len(self.weights)):\n",
    "            print(self.weights[i])\n",
    " \n",
    "    def get_deltas(self):\n",
    "        return self.deltas"
   ]
  },
  {
   "cell_type": "markdown",
   "metadata": {},
   "source": [
    "Despues de la definición de la red Neuronal, terminamos de dar formato a nuestro dataSet, de forma que podamos usarlo con nuestra red definida."
   ]
  },
  {
   "cell_type": "code",
   "execution_count": 26,
   "metadata": {},
   "outputs": [],
   "source": [
    "np_x = np.array(temp_arr)  \n",
    "\n",
    "y = df['sentiment'].values\n",
    "y_t = []\n",
    "for idx, i in enumerate(y):\n",
    "    y_t.append([y[idx]])\n",
    "np_y = np.array(y_t) \n"
   ]
  },
  {
   "cell_type": "markdown",
   "metadata": {},
   "source": [
    "En np_x y np_y, guardamos los valores a ser entrenados, pero para realizar la validación separaremos esta data en 2 grupos con train_test_split, con el que usarmos el 80% de la data en entrenamiento y el otro 20% en la validación."
   ]
  },
  {
   "cell_type": "code",
   "execution_count": 27,
   "metadata": {},
   "outputs": [],
   "source": [
    "X_train,X_test,y_train,y_test = train_test_split(np_x, np_y, test_size=0.2, random_state=0)"
   ]
  },
  {
   "cell_type": "markdown",
   "metadata": {},
   "source": [
    "Con estos nuevo valores realizamos en entrenamiento con BackPropagation de la red con una función Sigmoide y 150000 epocas.\n",
    "\n",
    "La red Neuronal usada tiene como entrada 1420 datos que corresponden a los datos generados anteriormente, 20 capas ocultas y 1 neurona se salida a la cual se aplica la funcin sigmoide."
   ]
  },
  {
   "cell_type": "code",
   "execution_count": 28,
   "metadata": {},
   "outputs": [
    {
     "name": "stdout",
     "output_type": "stream",
     "text": [
      "('epoca:', 0)\n",
      "('epoca:', 10000)\n",
      "('epoca:', 20000)\n",
      "('epoca:', 30000)\n",
      "('epoca:', 40000)\n",
      "('epoca:', 50000)\n",
      "('epoca:', 60000)\n",
      "('epoca:', 70000)\n",
      "('epoca:', 80000)\n",
      "('epoca:', 90000)\n",
      "('epoca:', 100000)\n",
      "('epoca:', 110000)\n",
      "('epoca:', 120000)\n",
      "('epoca:', 130000)\n",
      "('epoca:', 140000)\n",
      "('epoca:', 150000)\n"
     ]
    }
   ],
   "source": [
    "nn = NeuralNetwork([1420,20,1],activation ='sigmoid')\n",
    "\n",
    "nn.fit(X_train, y_train, learning_rate=0.03,epochs=150001)"
   ]
  },
  {
   "cell_type": "code",
   "execution_count": 29,
   "metadata": {},
   "outputs": [
    {
     "name": "stdout",
     "output_type": "stream",
     "text": [
      "Accuracy: 0.5083\n"
     ]
    }
   ],
   "source": [
    "index=0\n",
    "ans = []\n",
    "sum = 0\n",
    "for e in X_test:\n",
    "    pr = 1 if nn.predict(e)[0] > 0.5 else 0\n",
    "    ans.append(1 if pr == y_test[index][0] else 0)\n",
    "    sum += ans[-1]\n",
    "    index += 1\n",
    "    \n",
    "accuracy = float(sum) / len(X_test)\n",
    "print(\"Accuracy: \" + str(accuracy))"
   ]
  },
  {
   "cell_type": "markdown",
   "metadata": {},
   "source": [
    "Obtenemos un accuracy de : 51% "
   ]
  },
  {
   "cell_type": "code",
   "execution_count": 30,
   "metadata": {},
   "outputs": [
    {
     "data": {
      "image/png": "[encoded data removed]",
      "text/plain": [
       "<Figure size 432x288 with 1 Axes>"
      ]
     },
     "metadata": {
      "needs_background": "light"
     },
     "output_type": "display_data"
    }
   ],
   "source": [
    "deltas = nn.get_deltas()\n",
    "valores=[]\n",
    "index=0\n",
    "for arreglo in deltas:\n",
    "    valores.append(arreglo[0] + arreglo[1])\n",
    "    index=index+1\n",
    " \n",
    "plt.plot(range(len(valores)), valores, color='b')\n",
    "plt.ylim([0, 0.6])\n",
    "plt.ylabel('Cost')\n",
    "plt.xlabel('Epochs')\n",
    "plt.tight_layout()\n",
    "plt.show()"
   ]
  },
  {
   "cell_type": "markdown",
   "metadata": {},
   "source": [
    "Y en el grafico de como obtenemos los deltas que son los errores, vemos como baja de 0.3 a 0.2"
   ]
  },
  {
   "cell_type": "markdown",
   "metadata": {},
   "source": [
    "# Entrenamiento Total"
   ]
  },
  {
   "cell_type": "markdown",
   "metadata": {},
   "source": [
    "Obtenemos diferente resultados si usamos una funcion de costo Tangente"
   ]
  },
  {
   "cell_type": "code",
   "execution_count": 31,
   "metadata": {},
   "outputs": [
    {
     "name": "stdout",
     "output_type": "stream",
     "text": [
      "('epoca:', 0)\n",
      "('epoca:', 10000)\n",
      "('epoca:', 20000)\n",
      "('epoca:', 30000)\n",
      "('epoca:', 40000)\n",
      "('epoca:', 50000)\n",
      "('epoca:', 60000)\n",
      "('epoca:', 70000)\n",
      "('epoca:', 80000)\n",
      "('epoca:', 90000)\n",
      "('epoca:', 100000)\n",
      "('epoca:', 110000)\n",
      "('epoca:', 120000)\n",
      "('epoca:', 130000)\n",
      "('epoca:', 140000)\n",
      "('epoca:', 150000)\n"
     ]
    }
   ],
   "source": [
    "nn = NeuralNetwork([1420,20,1],activation ='tanh')\n",
    "\n",
    "nn.fit(np_x, np_y, learning_rate=0.03,epochs=150001)"
   ]
  },
  {
   "cell_type": "code",
   "execution_count": 32,
   "metadata": {},
   "outputs": [],
   "source": [
    "index=0\n",
    "ans = []\n",
    "sum = 0\n",
    "for e in np_x:\n",
    "    pr = 1 if nn.predict(e)[0] > 0.5 else 0\n",
    "    ans.append(1 if pr == np_y[index][0] else 0)\n",
    "    sum += ans[-1]\n",
    "    index += 1"
   ]
  },
  {
   "cell_type": "code",
   "execution_count": 33,
   "metadata": {},
   "outputs": [
    {
     "data": {
      "text/plain": [
       "0.49908"
      ]
     },
     "execution_count": 33,
     "metadata": {},
     "output_type": "execute_result"
    }
   ],
   "source": [
    "accuracy = float(sum) / len(np_x)\n",
    "accuracy"
   ]
  },
  {
   "cell_type": "markdown",
   "metadata": {},
   "source": [
    "Para este caso el acuraci es de 50%, no muy diferente."
   ]
  },
  {
   "cell_type": "code",
   "execution_count": 35,
   "metadata": {},
   "outputs": [
    {
     "data": {
      "image/png": "[encoded data removed]",
      "text/plain": [
       "<Figure size 432x288 with 1 Axes>"
      ]
     },
     "metadata": {
      "needs_background": "light"
     },
     "output_type": "display_data"
    }
   ],
   "source": [
    "deltas = nn.get_deltas()\n",
    "valores=[]\n",
    "index=0\n",
    "for arreglo in deltas:\n",
    "    valores.append(arreglo[0] + arreglo[1])\n",
    "    index=index+1\n",
    " \n",
    "plt.plot(range(len(valores)), valores, color='b')\n",
    "plt.ylim([0, 2])\n",
    "plt.ylabel('Cost')\n",
    "plt.xlabel('Epochs')\n",
    "plt.tight_layout()\n",
    "plt.show()"
   ]
  },
  {
   "cell_type": "markdown",
   "metadata": {},
   "source": [
    "Pero en la variacion de la funcion de costo observamos una gran diferencia en el movimiento de esta, lo que no da una mala señal dado que no baja a un buen nivel y por el contrario se mantiene."
   ]
  },
  {
   "cell_type": "code",
   "execution_count": null,
   "metadata": {},
   "outputs": [],
   "source": []
  },
  {
   "cell_type": "markdown",
   "metadata": {},
   "source": [
    "En conclución se obtiene mejores resultdos en este caso usando una funcion sigmoide como funcion de costo."
   ]
  },
  {
   "cell_type": "code",
   "execution_count": null,
   "metadata": {},
   "outputs": [],
   "source": []
  }
 ],
 "metadata": {
  "kernelspec": {
   "display_name": "Python 2",
   "language": "python",
   "name": "python2"
  },
  "language_info": {
   "codemirror_mode": {
    "name": "ipython",
    "version": 2
   },
   "file_extension": ".py",
   "mimetype": "text/x-python",
   "name": "python",
   "nbconvert_exporter": "python",
   "pygments_lexer": "ipython2",
   "version": "2.7.15"
  }
 },
 "nbformat": 4,
 "nbformat_minor": 1
}
