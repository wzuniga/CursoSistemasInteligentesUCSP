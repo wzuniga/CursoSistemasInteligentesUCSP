{
 "cells": [
  {
   "cell_type": "markdown",
   "metadata": {},
   "source": [
    "# IMPLEMENTACION DE VARIABLE ELIMINATION"
   ]
  },
  {
   "cell_type": "markdown",
   "metadata": {},
   "source": [
    "## IMPLEMENTACIÓN CON SAMIAM"
   ]
  },
  {
   "cell_type": "markdown",
   "metadata": {},
   "source": [
    "Se muestra imagenes de la implementación del modelo desarrollado en clase con la herramienta SAMIAM, con esta tambien comprararemos al momento de ver la implementación en python de Variable Elimination."
   ]
  },
  {
   "cell_type": "markdown",
   "metadata": {},
   "source": [
    "![img1](img1.png)"
   ]
  },
  {
   "cell_type": "markdown",
   "metadata": {},
   "source": [
    "![img2](img2.png)"
   ]
  },
  {
   "cell_type": "markdown",
   "metadata": {},
   "source": [
    "## IMPLEMENTACIÓN CON PYTHON"
   ]
  },
  {
   "cell_type": "markdown",
   "metadata": {},
   "source": [
    "Para poder propagar de forma correcta las probabilidades en cada dependencia se requiere obtener cada nodo por su orden topologico para esto usamos la funcion GETORDER(), en la cual ademas se agrega las relaciones entre nodos, los valores asi como el estado de cada variable."
   ]
  },
  {
   "cell_type": "markdown",
   "metadata": {},
   "source": [
    "Exixten 3 estados 100, 50 y 0, los cuales representan i = 0, 1, 2."
   ]
  },
  {
   "cell_type": "code",
   "execution_count": 9,
   "metadata": {},
   "outputs": [],
   "source": [
    "def getOrder():\n",
    "    return [\n",
    "        {\"node\":\"L\", \"parents\":[\"G\"],      \"probabilities\":[{\"condition\":{\"G\":100, \"L\":100}, \"value\":0.9},\n",
    "                                                            {\"condition\":{\"G\":100, \"L\":0}, \"value\":0.1},\n",
    "                                                            {\"condition\":{\"G\":0, \"L\":100}, \"value\":0.6},\n",
    "                                                            {\"condition\":{\"G\":0, \"L\":0}, \"value\":0.4},\n",
    "                                                            {\"condition\":{\"G\":50, \"L\":100}, \"value\":0.01},\n",
    "                                                            {\"condition\":{\"G\":50, \"L\":0}, \"value\":0.99}]},\n",
    "\n",
    "        {\"node\":\"G\", \"parents\":[\"D\", \"I\"], \"probabilities\":[{\"condition\":{\"G\":100, \"I\":100, \"D\":100}, \"value\":0.5},\n",
    "                                                            {\"condition\":{\"G\":100, \"I\":100, \"D\":0}, \"value\":0.9},\n",
    "                                                            {\"condition\":{\"G\":100, \"I\":0, \"D\":100}, \"value\":0.05},\n",
    "                                                            {\"condition\":{\"G\":100, \"I\":0, \"D\":0}, \"value\":0.3},\n",
    "                                                            {\"condition\":{\"G\":0, \"I\":100, \"D\":100}, \"value\":0.3},\n",
    "                                                            {\"condition\":{\"G\":0, \"I\":100, \"D\":0}, \"value\":0.08},\n",
    "                                                            {\"condition\":{\"G\":0, \"I\":0, \"D\":100}, \"value\":0.25},\n",
    "                                                            {\"condition\":{\"G\":0, \"I\":0, \"D\":0}, \"value\":0.3},\n",
    "                                                            {\"condition\":{\"G\":50, \"I\":100, \"D\":100}, \"value\":0.2},\n",
    "                                                            {\"condition\":{\"G\":50, \"I\":100, \"D\":0}, \"value\":0.02},\n",
    "                                                            {\"condition\":{\"G\":50, \"I\":0, \"D\":100}, \"value\":0.7},\n",
    "                                                            {\"condition\":{\"G\":50, \"I\":0, \"D\":0}, \"value\":0.3}]},\n",
    "\n",
    "        {\"node\":\"S\", \"parents\":[\"I\"],      \"probabilities\":[{\"condition\":{\"I\":100,\"S\":100}, \"value\":0.8},\n",
    "                                                            {\"condition\":{\"I\":100,\"S\":0}, \"value\":0.2},\n",
    "                                                            {\"condition\":{\"I\":0,\"S\":100}, \"value\":0.05},                                                                {\"condition\":{\"I\":0,\"S\":0}, \"value\":0.95}]}, \n",
    "\n",
    "        {\"node\":\"I\", \"parents\":[],         \"probabilities\":[{\"condition\":{\"I\":100}, \"value\":0.3},\n",
    "                                                            {\"condition\":{\"I\":0}, \"value\":0.7}]},\n",
    "\n",
    "        {\"node\":\"D\", \"parents\":[],         \"probabilities\":[{\"condition\":{\"D\":100}, \"value\":0.4},\n",
    "                                                            {\"condition\":{\"D\":0}, \"value\":0.6}]}, \n",
    "    ]"
   ]
  },
  {
   "cell_type": "markdown",
   "metadata": {},
   "source": [
    "Definimos algunas funciones de ayuda para el cálculo de las probabilidades."
   ]
  },
  {
   "cell_type": "code",
   "execution_count": 2,
   "metadata": {},
   "outputs": [],
   "source": [
    "def contains(cond, c):\n",
    "    for key in c:\n",
    "        if key in cond:\n",
    "            if cond[key] != c[key]:\n",
    "                return False\n",
    "        else:\n",
    "            return False\n",
    "    return True\n",
    "\n",
    "def getAllConditions(vars):\n",
    "    pl = {\n",
    "        \"D\":[100, 0],\"I\":[100, 0], \"S\":[100, 0], \"G\":[100, 50, 0], \"L\": [100, 0]\n",
    "    }\n",
    "    comb = []\n",
    "    \n",
    "    for v in vars:\n",
    "        if len(comb) == 0:\n",
    "            for t in pl[v]:\n",
    "                comb.append({v:t})\n",
    "        else:\n",
    "            tmp = []\n",
    "            for cm in comb:\n",
    "                for t in pl[v]:\n",
    "                    r = {v:t}\n",
    "                    r.update(dict(cm))\n",
    "                    tmp.append(r)\n",
    "            comb = tmp\n",
    "    return comb\n",
    "\n",
    "def containsElim(old, cond):\n",
    "    for key in cond[\"condition\"]:\n",
    "        if key in old[\"condition\"]:\n",
    "            if old[\"condition\"][key] != cond[\"condition\"][key]:\n",
    "                return False\n",
    "        else:\n",
    "            return False\n",
    "    return True\n",
    "\n"
   ]
  },
  {
   "cell_type": "markdown",
   "metadata": {},
   "source": [
    "Esta función realiza la labor de eliminar las variables simplificando las expresions y sumando los valores."
   ]
  },
  {
   "cell_type": "code",
   "execution_count": null,
   "metadata": {},
   "outputs": [],
   "source": [
    "def eliminateSum(factor, oldCond, var):\n",
    "    newP = []\n",
    "\n",
    "    factor[\"variable\"].remove(var)\n",
    "    for cond in getAllConditions(factor[\"variable\"]):\n",
    "        newP.append({\"condition\": cond, \"value\":0.0})\n",
    "    \n",
    "    for cond in newP:\n",
    "        for old in oldCond:\n",
    "            if containsElim(old, cond):\n",
    "                cond[\"value\"] = cond[\"value\"] + old[\"value\"]\n",
    "\n",
    "    return newP"
   ]
  },
  {
   "cell_type": "markdown",
   "metadata": {},
   "source": [
    "Esta función obtiene los nuevos valores de las proporciones a travez de la multiplicacion (producto punto)"
   ]
  },
  {
   "cell_type": "code",
   "execution_count": 3,
   "metadata": {},
   "outputs": [],
   "source": [
    "def join(factor1, factor2):\n",
    "    newVars = list(factor1[\"variable\"])\n",
    "    newVars.extend([element for element in factor2[\"variable\"] if element not in newVars])\n",
    "\n",
    "    newP = []\n",
    "    for cond in getAllConditions(newVars):\n",
    "        prob = 1.0\n",
    "\n",
    "        for c in factor2[\"p\"]:\n",
    "            if contains(cond, c[\"condition\"]):\n",
    "                prob *= c[\"value\"]\n",
    "\n",
    "        for c in factor1[\"p\"]:\n",
    "            if contains(cond, c[\"condition\"]):\n",
    "                prob *= c[\"value\"]\n",
    "\n",
    "        newP.append({'value': prob, 'condition': cond})\n",
    "\n",
    "    return {\"variable\": newVars, \"p\": newP}"
   ]
  },
  {
   "cell_type": "markdown",
   "metadata": {},
   "source": [
    "ADDFACTOR(), crea nuevos factores a cada iteración para a los cuales se aplica eliminación para obtener los nuevos valores de probabilidad."
   ]
  },
  {
   "cell_type": "code",
   "execution_count": 4,
   "metadata": {},
   "outputs": [],
   "source": [
    "def addFactor(v, evidence):\n",
    "\n",
    "    factor = {\"variable\": list(v[\"parents\"]), \"p\": v[\"probabilities\"]}\n",
    "    factor[\"variable\"].append(v[\"node\"])\n",
    "\n",
    "    for e in evidence:\n",
    "        if e in factor[\"variable\"]:\n",
    "            newP = []\n",
    "            for c in factor[\"p\"]:\n",
    "                for cond in c[\"condition\"]:\n",
    "                    if cond == e and c[\"condition\"][cond] == evidence[e]:\n",
    "                        newP.append(c)\n",
    "                        break\n",
    "            factor[\"p\"] = newP\n",
    "            factor[\"p\"] = eliminateSum(factor, factor[\"p\"], e)\n",
    "\n",
    "    return factor"
   ]
  },
  {
   "cell_type": "markdown",
   "metadata": {},
   "source": [
    "Es la funcion principal, esta funcion recorre todos los nodos en orden topologico, y halla las nueva probabilidades deacuerdo a la evidencia presentada, estos son normalizados para la correcta visualización."
   ]
  },
  {
   "cell_type": "code",
   "execution_count": 7,
   "metadata": {},
   "outputs": [],
   "source": [
    "def ask(target, evidence):\n",
    "    topologicalOrder = getOrder()\n",
    "\n",
    "    factors = []\n",
    "\n",
    "    for v in topologicalOrder:\n",
    "\n",
    "        factors.append(addFactor(v, evidence))\n",
    "\n",
    "        if target[\"node\"] != v[\"node\"] and not(v[\"node\"] in evidence):\n",
    "            temp = factors[0]\n",
    "\n",
    "            for fact in factors[1:]:\n",
    "                temp = join(temp, fact)\n",
    "\n",
    "            temp[\"p\"] = eliminateSum(temp, temp[\"p\"], v[\"node\"])\n",
    "\n",
    "            factors = []\n",
    "            factors.append(temp)\n",
    "\n",
    "    result = factors[0]\n",
    "    for fact in factors[1:]:\n",
    "        result = join(result, fact)\n",
    "\n",
    "\n",
    "    for ans in result[\"p\"]:\n",
    "        if target[\"node\"] in ans[\"condition\"]:\n",
    "            if  target[\"value\"] == ans[\"condition\"][target[\"node\"]]:\n",
    "                return ans[\"value\"]\n",
    "    return \"-1\""
   ]
  },
  {
   "cell_type": "markdown",
   "metadata": {},
   "source": [
    "## Comparación de Resultados en Python con SamIam"
   ]
  },
  {
   "cell_type": "markdown",
   "metadata": {},
   "source": [
    "El metodo a llamar es ASK, este contiene la condicion y en target\n",
    "\n",
    "\n",
    "ask({\"node\":\"L\",\"value\":100}, {\"D\":100})\n",
    "\n",
    "\n",
    "target = {\"node\":\"L\",\"value\":100}\n",
    "\n",
    "\n",
    "condicion = {\"D\":100}\n"
   ]
  },
  {
   "cell_type": "markdown",
   "metadata": {},
   "source": [
    "![img3](img3.png)"
   ]
  },
  {
   "cell_type": "markdown",
   "metadata": {},
   "source": [
    "Como podemos observar en la imagen tenemos loS resultados de la evidencia D = 100, al cual se correcponde L = 100 con el valor 33.1%, que es el mismo obtenido por el algoritmo propuesto."
   ]
  },
  {
   "cell_type": "code",
   "execution_count": 47,
   "metadata": {},
   "outputs": [
    {
     "name": "stdout",
     "output_type": "stream",
     "text": [
      "Main Resp: 0.331\n"
     ]
    }
   ],
   "source": [
    "res = ask({\"node\":\"L\",\"value\":100}, {\"D\":100})\n",
    "\n",
    "print(\"Main Resp: \" + str(res))"
   ]
  },
  {
   "cell_type": "markdown",
   "metadata": {},
   "source": [
    "De la misma forma si queremos la inferencia de L = 0 con la evidencia de D = 100, obtenemos 66.9% que se corresponde con el resultado obtenido."
   ]
  },
  {
   "cell_type": "code",
   "execution_count": 48,
   "metadata": {},
   "outputs": [
    {
     "name": "stdout",
     "output_type": "stream",
     "text": [
      "Main Resp: 0.669\n"
     ]
    }
   ],
   "source": [
    "res = ask({\"node\":\"L\",\"value\":0}, {\"D\":100})\n",
    "\n",
    "print(\"Main Resp: \" + str(res))"
   ]
  },
  {
   "cell_type": "markdown",
   "metadata": {},
   "source": [
    "![img4](img4.png)"
   ]
  },
  {
   "cell_type": "code",
   "execution_count": null,
   "metadata": {},
   "outputs": [],
   "source": []
  },
  {
   "cell_type": "code",
   "execution_count": 42,
   "metadata": {},
   "outputs": [
    {
     "name": "stdout",
     "output_type": "stream",
     "text": [
      "Main Resp: 0.2\n"
     ]
    }
   ],
   "source": [
    "res = ask({\"node\":\"G\",\"value\":100}, {\"I\":0})\n",
    "\n",
    "print(\"Main Resp: \" + str(res))"
   ]
  },
  {
   "cell_type": "code",
   "execution_count": 43,
   "metadata": {},
   "outputs": [
    {
     "name": "stdout",
     "output_type": "stream",
     "text": [
      "Main Resp: 0.4\n"
     ]
    }
   ],
   "source": [
    "res = ask({\"node\":\"D\",\"value\":100}, {\"I\":0})\n",
    "\n",
    "print(\"Main Resp: \" + str(res))"
   ]
  },
  {
   "cell_type": "code",
   "execution_count": null,
   "metadata": {},
   "outputs": [],
   "source": []
  },
  {
   "cell_type": "code",
   "execution_count": null,
   "metadata": {},
   "outputs": [],
   "source": []
  }
 ],
 "metadata": {
  "kernelspec": {
   "display_name": "Python 2",
   "language": "python",
   "name": "python2"
  },
  "language_info": {
   "codemirror_mode": {
    "name": "ipython",
    "version": 2
   },
   "file_extension": ".py",
   "mimetype": "text/x-python",
   "name": "python",
   "nbconvert_exporter": "python",
   "pygments_lexer": "ipython2",
   "version": "2.7.15"
  }
 },
 "nbformat": 4,
 "nbformat_minor": 2
}
